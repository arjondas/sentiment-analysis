{
 "metadata": {
  "language_info": {
   "codemirror_mode": {
    "name": "ipython",
    "version": 3
   },
   "file_extension": ".py",
   "mimetype": "text/x-python",
   "name": "python",
   "nbconvert_exporter": "python",
   "pygments_lexer": "ipython3",
   "version": "3.7.7-final"
  },
  "orig_nbformat": 2,
  "kernelspec": {
   "name": "python_defaultSpec_1600410017340",
   "display_name": "Python 3.7.3 64-bit ('venv': venv)"
  }
 },
 "nbformat": 4,
 "nbformat_minor": 2,
 "cells": [
  {
   "cell_type": "code",
   "execution_count": 1,
   "metadata": {},
   "outputs": [],
   "source": [
    "import pandas as pd\n",
    "import numpy as np\n",
    "import torch\n",
    "from transformers import DistilBertTokenizer\n",
    "from sklearn.model_selection import train_test_split\n",
    "\n",
    "test_fraction = 0.0125\n",
    "seed = 17"
   ]
  },
  {
   "cell_type": "code",
   "execution_count": null,
   "metadata": {},
   "outputs": [],
   "source": [
    "df = pd.read_csv('./data/sentiment.csv', encoding='ISO-8859-1', names=[\"target\", \"ids\", \"date\", \"flag\", \"user\", \"text\"])\n",
    "\n",
    "possible_labels = df.target.unique()\n",
    "\n",
    "label_dict = {}\n",
    "for index, label in enumerate(possible_labels):\n",
    "    label_dict[label] = index\n",
    "# label 0 == negative, 1 == positive\n",
    "df['label'] = df.target.replace(label_dict)\n",
    "df = df.drop(['date', 'flag', 'user', 'ids', 'target'], axis=1)\n",
    "df.head(10)"
   ]
  },
  {
   "cell_type": "code",
   "execution_count": null,
   "metadata": {},
   "outputs": [],
   "source": [
    "tokenizer = DistilBertTokenizer.from_pretrained(\n",
    "    'distilbert-base-uncased',\n",
    "    do_lower_case=True\n",
    ")"
   ]
  },
  {
   "cell_type": "code",
   "execution_count": null,
   "metadata": {},
   "outputs": [],
   "source": [
    "X_train, X_test, y_train, y_test = train_test_split(\n",
    "    df.text.values,\n",
    "    df.label.values,\n",
    "    test_size=test_fraction,\n",
    "    random_state=seed\n",
    ")"
   ]
  },
  {
   "cell_type": "code",
   "execution_count": null,
   "metadata": {
    "tags": []
   },
   "outputs": [],
   "source": [
    "encoded_data_train = tokenizer.batch_encode_plus(\n",
    "    X_train,\n",
    "    add_special_tokens=True,\n",
    "    return_attention_mask=True,\n",
    "    pad_to_max_length=True,\n",
    "    max_length=256,\n",
    "    return_tensors='pt'\n",
    ")\n",
    "torch.save(encoded_data_train['input_ids'], 'input_ids_train.pt')\n",
    "torch.save(encoded_data_train['attention_mask'], 'attention_mask_train.pt')\n",
    "torch.save(torch.tensor(y_train), 'y_train.pt')\n",
    "print('*******************************')\n",
    "print('*            DONE             *')\n",
    "print('*******************************')"
   ]
  },
  {
   "cell_type": "code",
   "execution_count": null,
   "metadata": {
    "tags": []
   },
   "outputs": [],
   "source": [
    "encoded_data_test = tokenizer.batch_encode_plus(\n",
    "    X_test,\n",
    "    add_special_tokens=True,\n",
    "    return_attention_mask=True,\n",
    "    pad_to_max_length=True,\n",
    "    max_length=256,\n",
    "    return_tensors='pt'\n",
    ")\n",
    "torch.save(encoded_data_test['input_ids'], 'input_ids_test.pt')\n",
    "torch.save(encoded_data_test['attention_mask'], 'attention_mask_test.pt')\n",
    "torch.save(torch.tensor(y_test), 'y_tests.pt')\n",
    "print('*******************************')\n",
    "print('*            DONE             *')\n",
    "print('*******************************')"
   ]
  }
 ]
}